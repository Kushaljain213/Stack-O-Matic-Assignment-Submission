{
  "nbformat": 4,
  "nbformat_minor": 0,
  "metadata": {
    "colab": {
      "provenance": []
    },
    "kernelspec": {
      "name": "python3",
      "display_name": "Python 3"
    },
    "language_info": {
      "name": "python"
    }
  },
  "cells": [
    {
      "cell_type": "code",
      "execution_count": 2,
      "metadata": {
        "collapsed": true,
        "id": "beL4hdQ5aTCQ",
        "colab": {
          "base_uri": "https://localhost:8080/"
        },
        "outputId": "f4b7c806-f85f-4374-b7b4-6eba00d0cce9"
      },
      "outputs": [
        {
          "output_type": "stream",
          "name": "stdout",
          "text": [
            "1\n",
            "2\n",
            "3\n",
            "5\n",
            "8\n",
            "13\n",
            "21\n",
            "34\n",
            "55\n",
            "89\n",
            "144\n",
            "233\n",
            "377\n",
            "610\n",
            "987\n",
            "1597\n",
            "2584\n",
            "4181\n",
            "6765\n",
            "10946\n",
            "17711\n",
            "28657\n",
            "46368\n",
            "75025\n",
            "121393\n",
            "196418\n",
            "317811\n",
            "514229\n",
            "832040\n",
            "1346269\n",
            "2178309\n",
            "3524578\n",
            "5702887\n",
            "9227465\n",
            "14930352\n",
            "24157817\n",
            "39088169\n",
            "63245986\n",
            "102334155\n",
            "165580141\n",
            "267914296\n",
            "433494437\n",
            "701408733\n",
            "1134903170\n",
            "1836311903\n",
            "2971215073\n",
            "4807526976\n",
            "7778742049\n",
            "12586269025\n",
            "20365011074\n",
            "32951280099\n",
            "53316291173\n",
            "86267571272\n",
            "139583862445\n",
            "225851433717\n",
            "365435296162\n",
            "591286729879\n",
            "956722026041\n",
            "1548008755920\n",
            "2504730781961\n",
            "4052739537881\n",
            "6557470319842\n",
            "10610209857723\n",
            "17167680177565\n",
            "27777890035288\n",
            "44945570212853\n",
            "72723460248141\n",
            "117669030460994\n",
            "190392490709135\n",
            "308061521170129\n",
            "498454011879264\n",
            "806515533049393\n",
            "1304969544928657\n",
            "2111485077978050\n",
            "3416454622906707\n",
            "5527939700884757\n",
            "8944394323791464\n",
            "14472334024676221\n",
            "23416728348467685\n",
            "37889062373143906\n",
            "61305790721611591\n",
            "99194853094755497\n",
            "160500643816367088\n",
            "259695496911122585\n",
            "420196140727489673\n",
            "679891637638612258\n",
            "1100087778366101931\n",
            "1779979416004714189\n",
            "2880067194370816120\n",
            "4660046610375530309\n",
            "7540113804746346429\n",
            "12200160415121876738\n",
            "19740274219868223167\n",
            "31940434634990099905\n",
            "51680708854858323072\n",
            "83621143489848422977\n",
            "135301852344706746049\n",
            "218922995834555169026\n",
            "354224848179261915075\n",
            "573147844013817084101\n",
            "573147844013817084101\n"
          ]
        }
      ],
      "source": [
        "#100 Fibonacci numebrs\n",
        "x = 0\n",
        "y = 1\n",
        "print(x)\n",
        "for i in range(100):\n",
        "  result = x+y\n",
        "  print(result)\n",
        "  x = y\n",
        "  y = result\n",
        "\n",
        "print(result)"
      ]
    },
    {
      "cell_type": "code",
      "source": [
        "#Fizz and Buzz\n",
        "for i in range(1,51):\n",
        "  # multiples of 3\n",
        "  if(i%3==0 and i%5 !=0):\n",
        "    print(i,\"Fizz\")\n",
        "\n",
        "    # multiples of 5\n",
        "  if(i%3 != 0 and i%5 == 0):\n",
        "    print(i,\"Buzz\")\n",
        "\n",
        "    # multiples of 3 and 5 both\n",
        "  if(i%3==0 and i%5==0):\n",
        "    print(i,\"FizzBuzz\")"
      ],
      "metadata": {
        "colab": {
          "base_uri": "https://localhost:8080/"
        },
        "collapsed": true,
        "id": "IKIv2UZBuJCR",
        "outputId": "f1e42fa4-8e14-462b-f439-89207768d57a"
      },
      "execution_count": 6,
      "outputs": [
        {
          "output_type": "stream",
          "name": "stdout",
          "text": [
            "3 Fizz\n",
            "5 Buzz\n",
            "6 Fizz\n",
            "9 Fizz\n",
            "10 Buzz\n",
            "12 Fizz\n",
            "15 FizzBuzz\n",
            "18 Fizz\n",
            "20 Buzz\n",
            "21 Fizz\n",
            "24 Fizz\n",
            "25 Buzz\n",
            "27 Fizz\n",
            "30 FizzBuzz\n",
            "33 Fizz\n",
            "35 Buzz\n",
            "36 Fizz\n",
            "39 Fizz\n",
            "40 Buzz\n",
            "42 Fizz\n",
            "45 FizzBuzz\n",
            "48 Fizz\n",
            "50 Buzz\n"
          ]
        }
      ]
    },
    {
      "cell_type": "code",
      "source": [
        "def median(num):\n",
        "\n",
        "    #Sort the list of numbers\n",
        "    num.sort()\n",
        "\n",
        "    #Finding length of list\n",
        "    n = len(num)\n",
        "\n",
        "    #Calculating Median\n",
        "    if n%2 == 1:\n",
        "        return num[n//2]\n",
        "\n",
        "    else:\n",
        "        return (num[(n//2)-1] + num[n//2])/2\n",
        "\n",
        "#Taking Input\n",
        "input_given = input(\"Enter numbers : \")\n",
        "num = list(map(int, input_given.split()))\n",
        "median = median(num)\n",
        "print(\"Median : \",median)"
      ],
      "metadata": {
        "colab": {
          "base_uri": "https://localhost:8080/"
        },
        "collapsed": true,
        "id": "V5eCS4MswAyg",
        "outputId": "4428ecd5-cbc7-4917-faaa-3f9d6ab38b1b"
      },
      "execution_count": 7,
      "outputs": [
        {
          "output_type": "stream",
          "name": "stdout",
          "text": [
            "Enter numbers : 7 1 3 4\n",
            "Median :  3.5\n"
          ]
        }
      ]
    },
    {
      "cell_type": "code",
      "source": [
        "def Calculate_average(num):\n",
        "    #Calculating length\n",
        "    n = len(num)\n",
        "\n",
        "    #Calculating average\n",
        "    sum = 0\n",
        "    for i in range(n):\n",
        "        sum = sum + num[i]\n",
        "    avg = sum/n\n",
        "\n",
        "    return avg\n",
        "\n",
        "# Taking Input\n",
        "inputs_given = input(\"Enter numbers : \")\n",
        "num = list(map(int, inputs_given.split()))\n",
        "average = Calculate_average(num)\n",
        "print(\"The avergae of given numbers is : \",average)"
      ],
      "metadata": {
        "colab": {
          "base_uri": "https://localhost:8080/"
        },
        "collapsed": true,
        "id": "KZ0S9YgtyKpB",
        "outputId": "6ec26e4f-82cc-4e50-c00d-a1789af75304"
      },
      "execution_count": 8,
      "outputs": [
        {
          "output_type": "stream",
          "name": "stdout",
          "text": [
            "Enter numbers : 10 20 30 40 50 60 70 80 90 100\n",
            "The avergae of given numbers is :  55.0\n"
          ]
        }
      ]
    },
    {
      "cell_type": "code",
      "source": [
        "def division(a,b):\n",
        "\n",
        "    #Zero division case\n",
        "    if b == 0:\n",
        "        print(\"Error! Division by zero is not allowed\")\n",
        "\n",
        "    #Non Zero division case\n",
        "    else :\n",
        "        div = a/b\n",
        "        print(\"Result : \",div)\n",
        "\n",
        "#Taking Input\n",
        "a = int(input(\"Numerator (a): \"))\n",
        "b = int(input(\"Denominator (b): \"))\n",
        "\n",
        "division(a,b)"
      ],
      "metadata": {
        "collapsed": true,
        "colab": {
          "base_uri": "https://localhost:8080/"
        },
        "id": "kRisDo7J2OBb",
        "outputId": "d7a9ecc6-e52d-45d7-b6ed-2076a3c3c99e"
      },
      "execution_count": 9,
      "outputs": [
        {
          "output_type": "stream",
          "name": "stdout",
          "text": [
            "Numerator (a): 100\n",
            "Denominator (b): 0\n",
            "Error! Division by zero is not allowed\n"
          ]
        }
      ]
    },
    {
      "cell_type": "code",
      "source": [],
      "metadata": {
        "id": "m5EKEvEl2j_8"
      },
      "execution_count": null,
      "outputs": []
    }
  ]
}